{
 "cells": [
  {
   "cell_type": "markdown",
   "id": "4183d1d1",
   "metadata": {},
   "source": [
    "**Punto 1**\n",
    "\n",
    "Escriba un programa de Pandas para crear y mostrar un objeto unidimensional que contenga una matriz de datos utilizando el módulo Pandas. Genérelo desde el método *arange* de **numpy**. "
   ]
  },
  {
   "cell_type": "markdown",
   "id": "4d2a3607",
   "metadata": {},
   "source": [
    "**Punto 2**\n",
    "\n",
    "Trabajaremos con el TSV de la siguiente url https://raw.githubusercontent.com/justmarkham/DAT8/master/data/chipotle.tsv"
   ]
  },
  {
   "cell_type": "markdown",
   "id": "7d220753",
   "metadata": {},
   "source": [
    "Mostrar los precios solo de los productos con cantidades unitarias, de estos productos mostrar los precios."
   ]
  },
  {
   "cell_type": "markdown",
   "id": "2722b72e",
   "metadata": {},
   "source": [
    "Ordenar los elementos por el nombre del producto"
   ]
  },
  {
   "cell_type": "markdown",
   "id": "00ba7189",
   "metadata": {},
   "source": [
    "¿Cuál es el ítem más costoso?"
   ]
  },
  {
   "cell_type": "markdown",
   "id": "6da1c4f5",
   "metadata": {},
   "source": [
    "¿Cuántas veces se pidió un Veggie Salad Bowl?"
   ]
  },
  {
   "cell_type": "markdown",
   "id": "7ea3b9c7",
   "metadata": {},
   "source": [
    "¿Cuántas veces alguien pidió más de uno Canned Soda?"
   ]
  },
  {
   "cell_type": "code",
   "execution_count": null,
   "id": "3d2d0d29",
   "metadata": {},
   "outputs": [],
   "source": []
  }
 ],
 "metadata": {
  "kernelspec": {
   "display_name": "Python 3",
   "language": "python",
   "name": "python3"
  },
  "language_info": {
   "codemirror_mode": {
    "name": "ipython",
    "version": 3
   },
   "file_extension": ".py",
   "mimetype": "text/x-python",
   "name": "python",
   "nbconvert_exporter": "python",
   "pygments_lexer": "ipython3",
   "version": "3.8.8"
  }
 },
 "nbformat": 4,
 "nbformat_minor": 5
}
